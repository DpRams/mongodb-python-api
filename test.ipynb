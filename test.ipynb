{
 "cells": [
  {
   "cell_type": "code",
   "execution_count": 4,
   "metadata": {},
   "outputs": [
    {
     "name": "stdout",
     "output_type": "stream",
     "text": [
      "model db 已存在\n",
      "deployments 集合已存在！\n"
     ]
    },
    {
     "ename": "NameError",
     "evalue": "name 'x' is not defined",
     "output_type": "error",
     "traceback": [
      "\u001b[1;31m---------------------------------------------------------------------------\u001b[0m",
      "\u001b[1;31mNameError\u001b[0m                                 Traceback (most recent call last)",
      "\u001b[1;32mc:\\Users\\user\\rams\\mongoDB_apply\\test.ipynb Cell 1\u001b[0m in \u001b[0;36m<cell line: 24>\u001b[1;34m()\u001b[0m\n\u001b[0;32m     <a href='vscode-notebook-cell:/c%3A/Users/user/rams/mongoDB_apply/test.ipynb#W1sZmlsZQ%3D%3D?line=21'>22</a>\u001b[0m     x \u001b[39m=\u001b[39m mycol\u001b[39m.\u001b[39minsert_one(mytestData)\n\u001b[0;32m     <a href='vscode-notebook-cell:/c%3A/Users/user/rams/mongoDB_apply/test.ipynb#W1sZmlsZQ%3D%3D?line=22'>23</a>\u001b[0m     x \u001b[39m=\u001b[39m mycol\u001b[39m.\u001b[39mfind_one()\n\u001b[1;32m---> <a href='vscode-notebook-cell:/c%3A/Users/user/rams/mongoDB_apply/test.ipynb#W1sZmlsZQ%3D%3D?line=23'>24</a>\u001b[0m \u001b[39mprint\u001b[39m(x)\n",
      "\u001b[1;31mNameError\u001b[0m: name 'x' is not defined"
     ]
    }
   ],
   "source": [
    "import pymongo\n",
    "\n",
    "myClient = pymongo.MongoClient(\"mongodb://localhost:27017/\")\n",
    "myDb = myClient[\"model\"]\n",
    "myCol = myDb[\"deployments\"]\n",
    "\n",
    "\n",
    "# dblst = myclient.list_database_names()\n",
    "# if \"model\" in dblst:\n",
    "#     print(\"model db 已存在\")\n",
    "#     mydb = myclient[\"model\"]\n",
    "# else: \n",
    "#     print(\"建立 model db\")\n",
    "#     mydb = myclient[\"model\"]\n",
    "\n",
    "# collst = mydb.list_collection_names()\n",
    "# if \"deployments\" in collst:   \n",
    "#     print(\"deployments 集合已存在！\")\n",
    "#     mycol = mydb[\"deployments\"]\n",
    "# else: \n",
    "#     print(\"建立 deployments collection\")\n",
    "#     mycol = mydb[\"deployments\"]\n",
    "\n",
    "\n",
    "    # mytestData = { \"name\": \"Allen\", \"gender\": \"male\", \"address\": \"苗栗縣苑裡鎮\" }\n",
    "    # x = mycol.insert_one(mytestData)\n",
    "    # x = mycol.find_one()\n"
   ]
  },
  {
   "cell_type": "code",
   "execution_count": 1,
   "metadata": {},
   "outputs": [
    {
     "name": "stdout",
     "output_type": "stream",
     "text": [
      "model db 已存在\n"
     ]
    },
    {
     "ename": "NameError",
     "evalue": "name 'mydb' is not defined",
     "output_type": "error",
     "traceback": [
      "\u001b[1;31m---------------------------------------------------------------------------\u001b[0m",
      "\u001b[1;31mNameError\u001b[0m                                 Traceback (most recent call last)",
      "\u001b[1;32mc:\\Users\\user\\rams\\mongoDB_apply\\test.ipynb Cell 1\u001b[0m in \u001b[0;36m<cell line: 15>\u001b[1;34m()\u001b[0m\n\u001b[0;32m     <a href='vscode-notebook-cell:/c%3A/Users/user/rams/mongoDB_apply/test.ipynb#W0sZmlsZQ%3D%3D?line=11'>12</a>\u001b[0m \u001b[39melse\u001b[39;00m: \n\u001b[0;32m     <a href='vscode-notebook-cell:/c%3A/Users/user/rams/mongoDB_apply/test.ipynb#W0sZmlsZQ%3D%3D?line=12'>13</a>\u001b[0m     mydb \u001b[39m=\u001b[39m myclient[\u001b[39m\"\u001b[39m\u001b[39mmodel\u001b[39m\u001b[39m\"\u001b[39m]\n\u001b[1;32m---> <a href='vscode-notebook-cell:/c%3A/Users/user/rams/mongoDB_apply/test.ipynb#W0sZmlsZQ%3D%3D?line=14'>15</a>\u001b[0m collst \u001b[39m=\u001b[39m mydb\u001b[39m.\u001b[39mlist_collection_names()\n\u001b[0;32m     <a href='vscode-notebook-cell:/c%3A/Users/user/rams/mongoDB_apply/test.ipynb#W0sZmlsZQ%3D%3D?line=15'>16</a>\u001b[0m \u001b[39mif\u001b[39;00m \u001b[39m\"\u001b[39m\u001b[39mdeployments\u001b[39m\u001b[39m\"\u001b[39m \u001b[39min\u001b[39;00m collst:   \n\u001b[0;32m     <a href='vscode-notebook-cell:/c%3A/Users/user/rams/mongoDB_apply/test.ipynb#W0sZmlsZQ%3D%3D?line=16'>17</a>\u001b[0m     \u001b[39mprint\u001b[39m(\u001b[39m\"\u001b[39m\u001b[39mdeployments 集合已存在！\u001b[39m\u001b[39m\"\u001b[39m)\n",
      "\u001b[1;31mNameError\u001b[0m: name 'mydb' is not defined"
     ]
    }
   ],
   "source": [
    "from fastapi import FastAPI\n",
    "import uvicorn\n",
    "import pymongo\n",
    "\n",
    "app = FastAPI()\n",
    "myclient = pymongo.MongoClient(\"mongodb://localhost:27017/\")\n",
    "\n",
    "\n",
    "\n",
    "# Function\n",
    "@app.get(\"/\")\n",
    "def read_root():\n",
    "   return \"get Initializing db : model ; collection : deployments\"\n",
    "\n",
    "@app.post(\"/\")\n",
    "def read_root():\n",
    "   return \"post Initializing db : model ; collection : deployments\"\n",
    "\n",
    "@app.put(\"/\")\n",
    "def read_root():\n",
    "   return \"put Initializing db : model ; collection : deployments\"\n",
    "\n",
    "@app.delete(\"/\")\n",
    "def read_root():\n",
    "   return \"delete Initializing db : model ; collection : deployments\"\n",
    "\n",
    "# Create\n",
    "\n",
    "# Read\n",
    "\n",
    "# Update\n",
    "\n",
    "# Delete\n",
    "\n",
    "if __name__ == '__main__':\n",
    "\tuvicorn.run(\"app:app\", host=\"127.0.0.1\", port=8001, reload=True) "
   ]
  },
  {
   "cell_type": "code",
   "execution_count": 6,
   "metadata": {},
   "outputs": [
    {
     "name": "stdout",
     "output_type": "stream",
     "text": [
      "<class 'str'>\n"
     ]
    }
   ],
   "source": [
    "from typing import Union\n",
    "\n",
    "def abc(tst:Union[int,str]):\n",
    "    print(type(tst))\n",
    "\n",
    "abc(\"123\")"
   ]
  },
  {
   "cell_type": "markdown",
   "metadata": {},
   "source": [
    "request GET data into MongoDb"
   ]
  },
  {
   "cell_type": "code",
   "execution_count": 87,
   "metadata": {},
   "outputs": [
    {
     "name": "stdout",
     "output_type": "stream",
     "text": [
      "[{'modelId': 0, 'modelName': 'solar_custoNet_SLFN_0.6_0.588_221115_215121.pkl', 'trainedDataset': 'solar', 'deployStatus': 'revoking', 'containerID': 'None', 'containerPort': 'None'}]\n"
     ]
    }
   ],
   "source": [
    "import requests\n",
    "\n",
    "key = \"modelId\"\n",
    "value = 0\n",
    "res = requests.get(f\"http://127.0.0.1:8001/model/deployments?key={key}&value={value}\")\n",
    "\n",
    "print(res.json())"
   ]
  },
  {
   "cell_type": "markdown",
   "metadata": {},
   "source": [
    "request POST data into MongoDb"
   ]
  },
  {
   "cell_type": "code",
   "execution_count": 90,
   "metadata": {},
   "outputs": [
    {
     "name": "stdout",
     "output_type": "stream",
     "text": [
      "{'modelId': 3, 'modelName': 'solar_custoNet_SLFN_0.6_0.729_221022_182027.pkl', 'trainedDataset': 'solar', 'deployStatus': 'revoking', 'containerID': 'None', 'containerPort': 'None'}\n"
     ]
    }
   ],
   "source": [
    "import requests\n",
    "\n",
    "\n",
    "res = requests.post(\"http://127.0.0.1:8001/model/deployments\", json={\"modelId\" : 3, \"modelName\" : \"solar_custoNet_SLFN_0.6_0.729_221022_182027.pkl\", \\\n",
    "                    \"trainedDataset\":\"solar\", \"deployStatus\":\"revoking\", \"containerID\": \"None\", \\\n",
    "                        \"containerPort\" : \"None\"})\n",
    "\n",
    "print(res.json())"
   ]
  },
  {
   "cell_type": "markdown",
   "metadata": {},
   "source": [
    "request PUT data into MongoDB"
   ]
  },
  {
   "cell_type": "code",
   "execution_count": 3,
   "metadata": {},
   "outputs": [
    {
     "name": "stdout",
     "output_type": "stream",
     "text": [
      "{'modelId': 1, 'modelName': 'solar_custoNet_ASLFN_0.6_0.5_221116_220148.pkl', 'trainedDataset': 'solar', 'deployStatus': 'revoking', 'containerID': 'None', 'containerPort': 'None'}\n"
     ]
    }
   ],
   "source": [
    "import requests\n",
    "\n",
    "res = requests.put(\"http://127.0.0.1:8001/model/deployments\", json={\"modelId\" : 1, \"keyToBeChanged\" : \"containerPort\", \"valueToBeChanged\" : \"None\"})\n",
    "\n",
    "print(res.json())"
   ]
  },
  {
   "cell_type": "markdown",
   "metadata": {},
   "source": [
    "request DELETE data into MongoDB"
   ]
  },
  {
   "cell_type": "code",
   "execution_count": 146,
   "metadata": {},
   "outputs": [
    {
     "name": "stdout",
     "output_type": "stream",
     "text": [
      "{'modelId': 4, 'modelName': 'hospice_all_custoNet_ASLFN_10_1.0_221116_214120.pkl', 'trainedDataset': 'hospice_all', 'deployStatus': 'deploying', 'containerID': '5e72ef6f149d', 'containerPort': '8491'}\n"
     ]
    }
   ],
   "source": [
    "import requests\n",
    "\n",
    "key = \"modelId\"\n",
    "value = 4\n",
    "res = requests.delete(f\"http://127.0.0.1:8001/model/deployments?key={key}&value={value}\")\n",
    "\n",
    "print(res.json())"
   ]
  },
  {
   "cell_type": "markdown",
   "metadata": {},
   "source": [
    "get Counts"
   ]
  },
  {
   "cell_type": "code",
   "execution_count": 3,
   "metadata": {},
   "outputs": [
    {
     "name": "stdout",
     "output_type": "stream",
     "text": [
      "0\n"
     ]
    }
   ],
   "source": [
    "import requests\n",
    "\n",
    "res = requests.get(f\"http://127.0.0.1:8001/model/deployments/counts\")\n",
    "\n",
    "print(res.json())\n"
   ]
  },
  {
   "cell_type": "markdown",
   "metadata": {},
   "source": [
    "---"
   ]
  },
  {
   "cell_type": "code",
   "execution_count": 4,
   "metadata": {},
   "outputs": [
    {
     "data": {
      "text/plain": [
       "['solar_SLFN_0.6_0.787_221124_134525.pkl',\n",
       " 'solar_SLFN_0.6_0.588_221124_210406.pkl',\n",
       " 'solar_SLFN_0.6_0.863_221124_212330.pkl']"
      ]
     },
     "execution_count": 4,
     "metadata": {},
     "output_type": "execute_result"
    }
   ],
   "source": [
    "key = \"trainedDataset\"\n",
    "value = \"solar\"\n",
    "modelPklFile = requests.get(f\"http://127.0.0.1:8001/model/deployments?key={key}&value={value}\")\n",
    "[data[\"modelName\"] for data in modelPklFile.json()]"
   ]
  },
  {
   "cell_type": "code",
   "execution_count": 2,
   "metadata": {},
   "outputs": [
    {
     "ename": "IndexError",
     "evalue": "list index out of range",
     "output_type": "error",
     "traceback": [
      "\u001b[1;31m---------------------------------------------------------------------------\u001b[0m",
      "\u001b[1;31mIndexError\u001b[0m                                Traceback (most recent call last)",
      "\u001b[1;32mc:\\Users\\user\\rams\\mongoDB_apply\\test.ipynb Cell 16\u001b[0m in \u001b[0;36m<cell line: 1>\u001b[1;34m()\u001b[0m\n\u001b[1;32m----> <a href='vscode-notebook-cell:/c%3A/Users/user/rams/mongoDB_apply/test.ipynb#X21sZmlsZQ%3D%3D?line=0'>1</a>\u001b[0m modelPklFile \u001b[39m=\u001b[39m requests\u001b[39m.\u001b[39;49mget(\u001b[39mf\u001b[39;49m\u001b[39m\"\u001b[39;49m\u001b[39mhttp://127.0.0.1:8001/model/deployments?key=modelName&value=solar_custoNet_SLFN_0.6_0.729_221022_182027.pkl\u001b[39;49m\u001b[39m\"\u001b[39;49m)\u001b[39m.\u001b[39;49mjson()[\u001b[39m0\u001b[39;49m][\u001b[39m\"\u001b[39m\u001b[39mmodelId\u001b[39m\u001b[39m\"\u001b[39m]\n\u001b[0;32m      <a href='vscode-notebook-cell:/c%3A/Users/user/rams/mongoDB_apply/test.ipynb#X21sZmlsZQ%3D%3D?line=1'>2</a>\u001b[0m modelPklFile\n",
      "\u001b[1;31mIndexError\u001b[0m: list index out of range"
     ]
    }
   ],
   "source": [
    "modelPklFile = requests.get(f\"http://127.0.0.1:8001/model/deployments?key=modelName&value=solar_custoNet_SLFN_0.6_0.729_221022_182027.pkl\").json()[0][\"modelId\"]\n",
    "modelPklFile"
   ]
  },
  {
   "cell_type": "code",
   "execution_count": 110,
   "metadata": {},
   "outputs": [
    {
     "data": {
      "text/plain": [
       "3"
      ]
     },
     "execution_count": 110,
     "metadata": {},
     "output_type": "execute_result"
    }
   ],
   "source": [
    "requests.get(f\"http://127.0.0.1:8001/model/deployments?key=modelName&value=solar_custoNet_SLFN_0.6_0.729_221022_182027.pkl\").json()[0][\"modelId\"]"
   ]
  },
  {
   "cell_type": "code",
   "execution_count": 1,
   "metadata": {},
   "outputs": [
    {
     "ename": "NameError",
     "evalue": "name 'requests' is not defined",
     "output_type": "error",
     "traceback": [
      "\u001b[1;31m---------------------------------------------------------------------------\u001b[0m",
      "\u001b[1;31mNameError\u001b[0m                                 Traceback (most recent call last)",
      "\u001b[1;32mc:\\Users\\user\\rams\\mongoDB_apply\\test.ipynb Cell 18\u001b[0m in \u001b[0;36m<cell line: 1>\u001b[1;34m()\u001b[0m\n\u001b[1;32m----> <a href='vscode-notebook-cell:/c%3A/Users/user/rams/mongoDB_apply/test.ipynb#X23sZmlsZQ%3D%3D?line=0'>1</a>\u001b[0m requests\u001b[39m.\u001b[39mget(\u001b[39mf\u001b[39m\u001b[39m\"\u001b[39m\u001b[39mhttp://127.0.0.1:8001/model/deployments/all\u001b[39m\u001b[39m\"\u001b[39m)\u001b[39m.\u001b[39mjson()\n",
      "\u001b[1;31mNameError\u001b[0m: name 'requests' is not defined"
     ]
    }
   ],
   "source": [
    "requests.get(f\"http://127.0.0.1:8001/model/deployments/all\").json()"
   ]
  },
  {
   "cell_type": "code",
   "execution_count": 25,
   "metadata": {},
   "outputs": [
    {
     "data": {
      "text/plain": [
       "[]"
      ]
     },
     "execution_count": 25,
     "metadata": {},
     "output_type": "execute_result"
    }
   ],
   "source": [
    "[model[\"containerID\"] for model in requests.get(f\"http://127.0.0.1:8001/model/deployments?key=deployStatus&value=2\").json()]"
   ]
  },
  {
   "cell_type": "code",
   "execution_count": 29,
   "metadata": {},
   "outputs": [
    {
     "name": "stdout",
     "output_type": "stream",
     "text": [
      "\n"
     ]
    }
   ],
   "source": [
    "a = (\" \").join([model[\"containerID\"] for model in requests.get(f\"http://127.0.0.1:8001/model/deployments?key=deployStatus&value=2\").json()])\n",
    "print(a)\n",
    "\n",
    "# import subprocess\n",
    "# p = subprocess.Popen(\"docker stop d68d0c5509b7\", shell=True, stdout=subprocess.PIPE)\n",
    "# stdout, stderr = p.communicate()\n",
    "# print(stdout, stderr)"
   ]
  },
  {
   "cell_type": "code",
   "execution_count": 124,
   "metadata": {},
   "outputs": [
    {
     "data": {
      "text/plain": [
       "{'modelId': 0,\n",
       " 'modelName': 'solar_custoNet_SLFN_0.6_0.588_221115_215121.pkl',\n",
       " 'trainedDataset': 'solar',\n",
       " 'deployStatus': 'revoking',\n",
       " 'containerID': 'None',\n",
       " 'containerPort': 'None'}"
      ]
     },
     "execution_count": 124,
     "metadata": {},
     "output_type": "execute_result"
    }
   ],
   "source": [
    "requests.put(f\"http://127.0.0.1:8001/model/deployments\", \\\n",
    "                        json={\"modelId\" : 0, \\\n",
    "                                \"keyToBeChanged\" : \"containerPort\", \\\n",
    "                                \"valueToBeChanged\" : \"None\"}).json()"
   ]
  },
  {
   "cell_type": "code",
   "execution_count": 136,
   "metadata": {},
   "outputs": [],
   "source": [
    "\n",
    "requests.put(f\"http://127.0.0.1:8001/model/deployments\", \\\n",
    "                            json={\"modelId\" : \"0\", \\\n",
    "                                    \"keyToBeChanged\" : \"containerID\", \\\n",
    "                                    \"valueToBeChanged\" : 324}).json()"
   ]
  },
  {
   "cell_type": "code",
   "execution_count": 34,
   "metadata": {},
   "outputs": [
    {
     "data": {
      "text/html": [
       "<div>\n",
       "<style scoped>\n",
       "    .dataframe tbody tr th:only-of-type {\n",
       "        vertical-align: middle;\n",
       "    }\n",
       "\n",
       "    .dataframe tbody tr th {\n",
       "        vertical-align: top;\n",
       "    }\n",
       "\n",
       "    .dataframe thead th {\n",
       "        text-align: right;\n",
       "    }\n",
       "</style>\n",
       "<table border=\"1\" class=\"dataframe\">\n",
       "  <thead>\n",
       "    <tr style=\"text-align: right;\">\n",
       "      <th></th>\n",
       "      <th>header</th>\n",
       "      <th>header.1</th>\n",
       "      <th>header.2</th>\n",
       "      <th>header.3</th>\n",
       "      <th>header.4</th>\n",
       "      <th>header.5</th>\n",
       "      <th>header.6</th>\n",
       "    </tr>\n",
       "  </thead>\n",
       "  <tbody>\n",
       "    <tr>\n",
       "      <th>0</th>\n",
       "      <td>0.833333</td>\n",
       "      <td>1</td>\n",
       "      <td>0</td>\n",
       "      <td>0</td>\n",
       "      <td>0</td>\n",
       "      <td>0</td>\n",
       "      <td>0</td>\n",
       "    </tr>\n",
       "    <tr>\n",
       "      <th>1</th>\n",
       "      <td>0.727273</td>\n",
       "      <td>0</td>\n",
       "      <td>0</td>\n",
       "      <td>0</td>\n",
       "      <td>0</td>\n",
       "      <td>0</td>\n",
       "      <td>2</td>\n",
       "    </tr>\n",
       "    <tr>\n",
       "      <th>2</th>\n",
       "      <td>0.696970</td>\n",
       "      <td>0</td>\n",
       "      <td>1</td>\n",
       "      <td>0</td>\n",
       "      <td>1</td>\n",
       "      <td>1</td>\n",
       "      <td>1</td>\n",
       "    </tr>\n",
       "    <tr>\n",
       "      <th>3</th>\n",
       "      <td>0.772727</td>\n",
       "      <td>0</td>\n",
       "      <td>0</td>\n",
       "      <td>0</td>\n",
       "      <td>1</td>\n",
       "      <td>0</td>\n",
       "      <td>0</td>\n",
       "    </tr>\n",
       "    <tr>\n",
       "      <th>4</th>\n",
       "      <td>0.712121</td>\n",
       "      <td>1</td>\n",
       "      <td>0</td>\n",
       "      <td>0</td>\n",
       "      <td>1</td>\n",
       "      <td>0</td>\n",
       "      <td>1</td>\n",
       "    </tr>\n",
       "    <tr>\n",
       "      <th>5</th>\n",
       "      <td>0.803030</td>\n",
       "      <td>0</td>\n",
       "      <td>1</td>\n",
       "      <td>0</td>\n",
       "      <td>1</td>\n",
       "      <td>0</td>\n",
       "      <td>1</td>\n",
       "    </tr>\n",
       "    <tr>\n",
       "      <th>6</th>\n",
       "      <td>0.606061</td>\n",
       "      <td>1</td>\n",
       "      <td>0</td>\n",
       "      <td>0</td>\n",
       "      <td>1</td>\n",
       "      <td>0</td>\n",
       "      <td>1</td>\n",
       "    </tr>\n",
       "    <tr>\n",
       "      <th>7</th>\n",
       "      <td>0.787879</td>\n",
       "      <td>0</td>\n",
       "      <td>0</td>\n",
       "      <td>0</td>\n",
       "      <td>1</td>\n",
       "      <td>1</td>\n",
       "      <td>0</td>\n",
       "    </tr>\n",
       "    <tr>\n",
       "      <th>8</th>\n",
       "      <td>0.787879</td>\n",
       "      <td>2</td>\n",
       "      <td>1</td>\n",
       "      <td>1</td>\n",
       "      <td>1</td>\n",
       "      <td>0</td>\n",
       "      <td>1</td>\n",
       "    </tr>\n",
       "    <tr>\n",
       "      <th>9</th>\n",
       "      <td>0.803030</td>\n",
       "      <td>2</td>\n",
       "      <td>1</td>\n",
       "      <td>0</td>\n",
       "      <td>1</td>\n",
       "      <td>1</td>\n",
       "      <td>1</td>\n",
       "    </tr>\n",
       "    <tr>\n",
       "      <th>10</th>\n",
       "      <td>0.575758</td>\n",
       "      <td>2</td>\n",
       "      <td>0</td>\n",
       "      <td>0</td>\n",
       "      <td>1</td>\n",
       "      <td>1</td>\n",
       "      <td>0</td>\n",
       "    </tr>\n",
       "    <tr>\n",
       "      <th>11</th>\n",
       "      <td>0.636364</td>\n",
       "      <td>0</td>\n",
       "      <td>1</td>\n",
       "      <td>0</td>\n",
       "      <td>1</td>\n",
       "      <td>1</td>\n",
       "      <td>1</td>\n",
       "    </tr>\n",
       "    <tr>\n",
       "      <th>12</th>\n",
       "      <td>0.651515</td>\n",
       "      <td>0</td>\n",
       "      <td>0</td>\n",
       "      <td>0</td>\n",
       "      <td>1</td>\n",
       "      <td>0</td>\n",
       "      <td>0</td>\n",
       "    </tr>\n",
       "    <tr>\n",
       "      <th>13</th>\n",
       "      <td>0.666667</td>\n",
       "      <td>0</td>\n",
       "      <td>1</td>\n",
       "      <td>1</td>\n",
       "      <td>1</td>\n",
       "      <td>0</td>\n",
       "      <td>1</td>\n",
       "    </tr>\n",
       "    <tr>\n",
       "      <th>14</th>\n",
       "      <td>0.272727</td>\n",
       "      <td>1</td>\n",
       "      <td>1</td>\n",
       "      <td>0</td>\n",
       "      <td>1</td>\n",
       "      <td>1</td>\n",
       "      <td>1</td>\n",
       "    </tr>\n",
       "    <tr>\n",
       "      <th>15</th>\n",
       "      <td>0.000000</td>\n",
       "      <td>2</td>\n",
       "      <td>1</td>\n",
       "      <td>0</td>\n",
       "      <td>1</td>\n",
       "      <td>1</td>\n",
       "      <td>1</td>\n",
       "    </tr>\n",
       "    <tr>\n",
       "      <th>16</th>\n",
       "      <td>0.712121</td>\n",
       "      <td>0</td>\n",
       "      <td>1</td>\n",
       "      <td>0</td>\n",
       "      <td>1</td>\n",
       "      <td>1</td>\n",
       "      <td>1</td>\n",
       "    </tr>\n",
       "    <tr>\n",
       "      <th>17</th>\n",
       "      <td>0.893939</td>\n",
       "      <td>0</td>\n",
       "      <td>0</td>\n",
       "      <td>0</td>\n",
       "      <td>1</td>\n",
       "      <td>0</td>\n",
       "      <td>1</td>\n",
       "    </tr>\n",
       "    <tr>\n",
       "      <th>18</th>\n",
       "      <td>0.757576</td>\n",
       "      <td>0</td>\n",
       "      <td>1</td>\n",
       "      <td>1</td>\n",
       "      <td>1</td>\n",
       "      <td>0</td>\n",
       "      <td>1</td>\n",
       "    </tr>\n",
       "    <tr>\n",
       "      <th>19</th>\n",
       "      <td>0.696970</td>\n",
       "      <td>0</td>\n",
       "      <td>0</td>\n",
       "      <td>0</td>\n",
       "      <td>0</td>\n",
       "      <td>0</td>\n",
       "      <td>1</td>\n",
       "    </tr>\n",
       "    <tr>\n",
       "      <th>20</th>\n",
       "      <td>0.772727</td>\n",
       "      <td>0</td>\n",
       "      <td>0</td>\n",
       "      <td>0</td>\n",
       "      <td>1</td>\n",
       "      <td>0</td>\n",
       "      <td>2</td>\n",
       "    </tr>\n",
       "    <tr>\n",
       "      <th>21</th>\n",
       "      <td>0.651515</td>\n",
       "      <td>0</td>\n",
       "      <td>0</td>\n",
       "      <td>0</td>\n",
       "      <td>1</td>\n",
       "      <td>0</td>\n",
       "      <td>1</td>\n",
       "    </tr>\n",
       "    <tr>\n",
       "      <th>22</th>\n",
       "      <td>0.712121</td>\n",
       "      <td>1</td>\n",
       "      <td>0</td>\n",
       "      <td>0</td>\n",
       "      <td>1</td>\n",
       "      <td>1</td>\n",
       "      <td>1</td>\n",
       "    </tr>\n",
       "    <tr>\n",
       "      <th>23</th>\n",
       "      <td>0.727273</td>\n",
       "      <td>1</td>\n",
       "      <td>0</td>\n",
       "      <td>0</td>\n",
       "      <td>1</td>\n",
       "      <td>0</td>\n",
       "      <td>2</td>\n",
       "    </tr>\n",
       "    <tr>\n",
       "      <th>24</th>\n",
       "      <td>0.833333</td>\n",
       "      <td>0</td>\n",
       "      <td>0</td>\n",
       "      <td>1</td>\n",
       "      <td>0</td>\n",
       "      <td>0</td>\n",
       "      <td>1</td>\n",
       "    </tr>\n",
       "    <tr>\n",
       "      <th>25</th>\n",
       "      <td>0.333333</td>\n",
       "      <td>2</td>\n",
       "      <td>1</td>\n",
       "      <td>0</td>\n",
       "      <td>1</td>\n",
       "      <td>1</td>\n",
       "      <td>1</td>\n",
       "    </tr>\n",
       "    <tr>\n",
       "      <th>26</th>\n",
       "      <td>0.893939</td>\n",
       "      <td>0</td>\n",
       "      <td>0</td>\n",
       "      <td>0</td>\n",
       "      <td>1</td>\n",
       "      <td>0</td>\n",
       "      <td>1</td>\n",
       "    </tr>\n",
       "    <tr>\n",
       "      <th>27</th>\n",
       "      <td>0.727273</td>\n",
       "      <td>2</td>\n",
       "      <td>1</td>\n",
       "      <td>0</td>\n",
       "      <td>1</td>\n",
       "      <td>0</td>\n",
       "      <td>0</td>\n",
       "    </tr>\n",
       "    <tr>\n",
       "      <th>28</th>\n",
       "      <td>0.166667</td>\n",
       "      <td>1</td>\n",
       "      <td>1</td>\n",
       "      <td>0</td>\n",
       "      <td>1</td>\n",
       "      <td>0</td>\n",
       "      <td>1</td>\n",
       "    </tr>\n",
       "    <tr>\n",
       "      <th>29</th>\n",
       "      <td>0.863636</td>\n",
       "      <td>2</td>\n",
       "      <td>0</td>\n",
       "      <td>0</td>\n",
       "      <td>1</td>\n",
       "      <td>0</td>\n",
       "      <td>1</td>\n",
       "    </tr>\n",
       "    <tr>\n",
       "      <th>30</th>\n",
       "      <td>0.787879</td>\n",
       "      <td>0</td>\n",
       "      <td>0</td>\n",
       "      <td>0</td>\n",
       "      <td>1</td>\n",
       "      <td>1</td>\n",
       "      <td>1</td>\n",
       "    </tr>\n",
       "    <tr>\n",
       "      <th>31</th>\n",
       "      <td>0.696970</td>\n",
       "      <td>2</td>\n",
       "      <td>1</td>\n",
       "      <td>1</td>\n",
       "      <td>1</td>\n",
       "      <td>1</td>\n",
       "      <td>0</td>\n",
       "    </tr>\n",
       "    <tr>\n",
       "      <th>32</th>\n",
       "      <td>0.803030</td>\n",
       "      <td>2</td>\n",
       "      <td>0</td>\n",
       "      <td>2</td>\n",
       "      <td>1</td>\n",
       "      <td>0</td>\n",
       "      <td>1</td>\n",
       "    </tr>\n",
       "    <tr>\n",
       "      <th>33</th>\n",
       "      <td>0.681818</td>\n",
       "      <td>0</td>\n",
       "      <td>0</td>\n",
       "      <td>1</td>\n",
       "      <td>1</td>\n",
       "      <td>0</td>\n",
       "      <td>2</td>\n",
       "    </tr>\n",
       "  </tbody>\n",
       "</table>\n",
       "</div>"
      ],
      "text/plain": [
       "      header  header.1  header.2  header.3  header.4  header.5  header.6\n",
       "0   0.833333         1         0         0         0         0         0\n",
       "1   0.727273         0         0         0         0         0         2\n",
       "2   0.696970         0         1         0         1         1         1\n",
       "3   0.772727         0         0         0         1         0         0\n",
       "4   0.712121         1         0         0         1         0         1\n",
       "5   0.803030         0         1         0         1         0         1\n",
       "6   0.606061         1         0         0         1         0         1\n",
       "7   0.787879         0         0         0         1         1         0\n",
       "8   0.787879         2         1         1         1         0         1\n",
       "9   0.803030         2         1         0         1         1         1\n",
       "10  0.575758         2         0         0         1         1         0\n",
       "11  0.636364         0         1         0         1         1         1\n",
       "12  0.651515         0         0         0         1         0         0\n",
       "13  0.666667         0         1         1         1         0         1\n",
       "14  0.272727         1         1         0         1         1         1\n",
       "15  0.000000         2         1         0         1         1         1\n",
       "16  0.712121         0         1         0         1         1         1\n",
       "17  0.893939         0         0         0         1         0         1\n",
       "18  0.757576         0         1         1         1         0         1\n",
       "19  0.696970         0         0         0         0         0         1\n",
       "20  0.772727         0         0         0         1         0         2\n",
       "21  0.651515         0         0         0         1         0         1\n",
       "22  0.712121         1         0         0         1         1         1\n",
       "23  0.727273         1         0         0         1         0         2\n",
       "24  0.833333         0         0         1         0         0         1\n",
       "25  0.333333         2         1         0         1         1         1\n",
       "26  0.893939         0         0         0         1         0         1\n",
       "27  0.727273         2         1         0         1         0         0\n",
       "28  0.166667         1         1         0         1         0         1\n",
       "29  0.863636         2         0         0         1         0         1\n",
       "30  0.787879         0         0         0         1         1         1\n",
       "31  0.696970         2         1         1         1         1         0\n",
       "32  0.803030         2         0         2         1         0         1\n",
       "33  0.681818         0         0         1         1         0         2"
      ]
     },
     "execution_count": 34,
     "metadata": {},
     "output_type": "execute_result"
    }
   ],
   "source": [
    "import pandas as pd\n",
    "\n",
    "pd.read_csv(\"X_case_104to108_34.csv\")"
   ]
  }
 ],
 "metadata": {
  "kernelspec": {
   "display_name": "Python 3.9.12 ('base')",
   "language": "python",
   "name": "python3"
  },
  "language_info": {
   "codemirror_mode": {
    "name": "ipython",
    "version": 3
   },
   "file_extension": ".py",
   "mimetype": "text/x-python",
   "name": "python",
   "nbconvert_exporter": "python",
   "pygments_lexer": "ipython3",
   "version": "3.9.12"
  },
  "orig_nbformat": 4,
  "vscode": {
   "interpreter": {
    "hash": "a077222d77dfe082b8f1dd562ad70e458ac2ab76993a0b248ab0476e32e9e8dd"
   }
  }
 },
 "nbformat": 4,
 "nbformat_minor": 2
}
