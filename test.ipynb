{
 "cells": [
  {
   "cell_type": "code",
   "execution_count": 4,
   "metadata": {},
   "outputs": [
    {
     "name": "stdout",
     "output_type": "stream",
     "text": [
      "model db 已存在\n",
      "deployments 集合已存在！\n"
     ]
    },
    {
     "ename": "NameError",
     "evalue": "name 'x' is not defined",
     "output_type": "error",
     "traceback": [
      "\u001b[1;31m---------------------------------------------------------------------------\u001b[0m",
      "\u001b[1;31mNameError\u001b[0m                                 Traceback (most recent call last)",
      "\u001b[1;32mc:\\Users\\user\\rams\\mongoDB_apply\\test.ipynb Cell 1\u001b[0m in \u001b[0;36m<cell line: 24>\u001b[1;34m()\u001b[0m\n\u001b[0;32m     <a href='vscode-notebook-cell:/c%3A/Users/user/rams/mongoDB_apply/test.ipynb#W1sZmlsZQ%3D%3D?line=21'>22</a>\u001b[0m     x \u001b[39m=\u001b[39m mycol\u001b[39m.\u001b[39minsert_one(mytestData)\n\u001b[0;32m     <a href='vscode-notebook-cell:/c%3A/Users/user/rams/mongoDB_apply/test.ipynb#W1sZmlsZQ%3D%3D?line=22'>23</a>\u001b[0m     x \u001b[39m=\u001b[39m mycol\u001b[39m.\u001b[39mfind_one()\n\u001b[1;32m---> <a href='vscode-notebook-cell:/c%3A/Users/user/rams/mongoDB_apply/test.ipynb#W1sZmlsZQ%3D%3D?line=23'>24</a>\u001b[0m \u001b[39mprint\u001b[39m(x)\n",
      "\u001b[1;31mNameError\u001b[0m: name 'x' is not defined"
     ]
    }
   ],
   "source": [
    "import pymongo\n",
    "\n",
    "myClient = pymongo.MongoClient(\"mongodb://localhost:27017/\")\n",
    "myDb = myClient[\"model\"]\n",
    "myCol = myDb[\"deployments\"]\n",
    "\n",
    "\n",
    "# dblst = myclient.list_database_names()\n",
    "# if \"model\" in dblst:\n",
    "#     print(\"model db 已存在\")\n",
    "#     mydb = myclient[\"model\"]\n",
    "# else: \n",
    "#     print(\"建立 model db\")\n",
    "#     mydb = myclient[\"model\"]\n",
    "\n",
    "# collst = mydb.list_collection_names()\n",
    "# if \"deployments\" in collst:   \n",
    "#     print(\"deployments 集合已存在！\")\n",
    "#     mycol = mydb[\"deployments\"]\n",
    "# else: \n",
    "#     print(\"建立 deployments collection\")\n",
    "#     mycol = mydb[\"deployments\"]\n",
    "\n",
    "\n",
    "    # mytestData = { \"name\": \"Allen\", \"gender\": \"male\", \"address\": \"苗栗縣苑裡鎮\" }\n",
    "    # x = mycol.insert_one(mytestData)\n",
    "    # x = mycol.find_one()\n"
   ]
  },
  {
   "cell_type": "code",
   "execution_count": 1,
   "metadata": {},
   "outputs": [
    {
     "name": "stdout",
     "output_type": "stream",
     "text": [
      "model db 已存在\n"
     ]
    },
    {
     "ename": "NameError",
     "evalue": "name 'mydb' is not defined",
     "output_type": "error",
     "traceback": [
      "\u001b[1;31m---------------------------------------------------------------------------\u001b[0m",
      "\u001b[1;31mNameError\u001b[0m                                 Traceback (most recent call last)",
      "\u001b[1;32mc:\\Users\\user\\rams\\mongoDB_apply\\test.ipynb Cell 1\u001b[0m in \u001b[0;36m<cell line: 15>\u001b[1;34m()\u001b[0m\n\u001b[0;32m     <a href='vscode-notebook-cell:/c%3A/Users/user/rams/mongoDB_apply/test.ipynb#W0sZmlsZQ%3D%3D?line=11'>12</a>\u001b[0m \u001b[39melse\u001b[39;00m: \n\u001b[0;32m     <a href='vscode-notebook-cell:/c%3A/Users/user/rams/mongoDB_apply/test.ipynb#W0sZmlsZQ%3D%3D?line=12'>13</a>\u001b[0m     mydb \u001b[39m=\u001b[39m myclient[\u001b[39m\"\u001b[39m\u001b[39mmodel\u001b[39m\u001b[39m\"\u001b[39m]\n\u001b[1;32m---> <a href='vscode-notebook-cell:/c%3A/Users/user/rams/mongoDB_apply/test.ipynb#W0sZmlsZQ%3D%3D?line=14'>15</a>\u001b[0m collst \u001b[39m=\u001b[39m mydb\u001b[39m.\u001b[39mlist_collection_names()\n\u001b[0;32m     <a href='vscode-notebook-cell:/c%3A/Users/user/rams/mongoDB_apply/test.ipynb#W0sZmlsZQ%3D%3D?line=15'>16</a>\u001b[0m \u001b[39mif\u001b[39;00m \u001b[39m\"\u001b[39m\u001b[39mdeployments\u001b[39m\u001b[39m\"\u001b[39m \u001b[39min\u001b[39;00m collst:   \n\u001b[0;32m     <a href='vscode-notebook-cell:/c%3A/Users/user/rams/mongoDB_apply/test.ipynb#W0sZmlsZQ%3D%3D?line=16'>17</a>\u001b[0m     \u001b[39mprint\u001b[39m(\u001b[39m\"\u001b[39m\u001b[39mdeployments 集合已存在！\u001b[39m\u001b[39m\"\u001b[39m)\n",
      "\u001b[1;31mNameError\u001b[0m: name 'mydb' is not defined"
     ]
    }
   ],
   "source": [
    "from fastapi import FastAPI\n",
    "import uvicorn\n",
    "import pymongo\n",
    "\n",
    "app = FastAPI()\n",
    "myclient = pymongo.MongoClient(\"mongodb://localhost:27017/\")\n",
    "\n",
    "\n",
    "\n",
    "# Function\n",
    "@app.get(\"/\")\n",
    "def read_root():\n",
    "   return \"get Initializing db : model ; collection : deployments\"\n",
    "\n",
    "@app.post(\"/\")\n",
    "def read_root():\n",
    "   return \"post Initializing db : model ; collection : deployments\"\n",
    "\n",
    "@app.put(\"/\")\n",
    "def read_root():\n",
    "   return \"put Initializing db : model ; collection : deployments\"\n",
    "\n",
    "@app.delete(\"/\")\n",
    "def read_root():\n",
    "   return \"delete Initializing db : model ; collection : deployments\"\n",
    "\n",
    "# Create\n",
    "\n",
    "# Read\n",
    "\n",
    "# Update\n",
    "\n",
    "# Delete\n",
    "\n",
    "if __name__ == '__main__':\n",
    "\tuvicorn.run(\"app:app\", host=\"127.0.0.1\", port=8001, reload=True) "
   ]
  },
  {
   "cell_type": "code",
   "execution_count": 6,
   "metadata": {},
   "outputs": [
    {
     "name": "stdout",
     "output_type": "stream",
     "text": [
      "<class 'str'>\n"
     ]
    }
   ],
   "source": [
    "from typing import Union\n",
    "\n",
    "def abc(tst:Union[int,str]):\n",
    "    print(type(tst))\n",
    "\n",
    "abc(\"123\")"
   ]
  },
  {
   "cell_type": "markdown",
   "metadata": {},
   "source": [
    "request GET data into MongoDb"
   ]
  },
  {
   "cell_type": "code",
   "execution_count": 11,
   "metadata": {},
   "outputs": [
    {
     "name": "stdout",
     "output_type": "stream",
     "text": [
      "GET [{'_id': ObjectId('63733f59a424b0aeb889c968'), 'modelId': 4, 'modelName': 'solar_custoNet_SLFN_0.6_0.729_221022_182027.pkl', 'trainedDataset': 'solar', 'deployStatus': 'revoking', 'containerID': 'None', 'containerPort': 'None'}]\n"
     ]
    }
   ],
   "source": [
    "import requests\n",
    "\n",
    "key = \"modelId\"\n",
    "value = 4\n",
    "res = requests.get(f\"http://127.0.0.1:8001/model/deployments?key={key}&value={value}\")\n",
    "\n",
    "print(res.json())"
   ]
  },
  {
   "cell_type": "markdown",
   "metadata": {},
   "source": [
    "request POST data into MongoDb"
   ]
  },
  {
   "cell_type": "code",
   "execution_count": 9,
   "metadata": {},
   "outputs": [
    {
     "name": "stdout",
     "output_type": "stream",
     "text": [
      "PUT {'_id': ObjectId('63733f59a424b0aeb889c968'), 'modelId': 4, 'modelName': 'solar_custoNet_SLFN_0.6_0.729_221022_182027.pkl', 'trainedDataset': 'solar', 'deployStatus': 'revoking', 'containerID': 'None', 'containerPort': 'None'}\n"
     ]
    }
   ],
   "source": [
    "import requests\n",
    "\n",
    "\n",
    "res = requests.post(\"http://127.0.0.1:8001/model/deployments\", json={\"modelId\" : 4, \"modelName\" : \"solar_custoNet_SLFN_0.6_0.729_221022_182027.pkl\", \\\n",
    "                    \"trainedDataset\":\"solar\", \"deployStatus\":\"revoking\", \"containerID\": \"None\", \\\n",
    "                        \"containerPort\" : \"None\"})\n",
    "\n",
    "print(res.json())"
   ]
  },
  {
   "cell_type": "markdown",
   "metadata": {},
   "source": [
    "request PUT data into MongoDB"
   ]
  },
  {
   "cell_type": "code",
   "execution_count": null,
   "metadata": {},
   "outputs": [],
   "source": [
    "import requests\n",
    "\n",
    "res = requests.put(\"http://127.0.0.1:8001/model/deployments\", json={\"modelId\" : 4, \"keyToBeChanged\" : \"deployStatus\", \"valueToBeChanged\" : \"revoking\"})\n",
    "\n",
    "print(res.json())"
   ]
  },
  {
   "cell_type": "markdown",
   "metadata": {},
   "source": [
    "request DELETE data into MongoDB"
   ]
  },
  {
   "cell_type": "code",
   "execution_count": 17,
   "metadata": {},
   "outputs": [
    {
     "name": "stdout",
     "output_type": "stream",
     "text": [
      "DELETE <pymongo.results.DeleteResult object at 0x000001F00776C9D0>\n"
     ]
    }
   ],
   "source": [
    "import requests\n",
    "\n",
    "key = \"id\"\n",
    "value = 1\n",
    "res = requests.delete(f\"http://127.0.0.1:8001/model/deployments?key={key}&value={value}\")\n",
    "\n",
    "print(res.json())"
   ]
  }
 ],
 "metadata": {
  "kernelspec": {
   "display_name": "Python 3.9.12 ('base')",
   "language": "python",
   "name": "python3"
  },
  "language_info": {
   "codemirror_mode": {
    "name": "ipython",
    "version": 3
   },
   "file_extension": ".py",
   "mimetype": "text/x-python",
   "name": "python",
   "nbconvert_exporter": "python",
   "pygments_lexer": "ipython3",
   "version": "3.9.12"
  },
  "orig_nbformat": 4,
  "vscode": {
   "interpreter": {
    "hash": "a077222d77dfe082b8f1dd562ad70e458ac2ab76993a0b248ab0476e32e9e8dd"
   }
  }
 },
 "nbformat": 4,
 "nbformat_minor": 2
}
